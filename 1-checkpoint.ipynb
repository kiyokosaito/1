{
 "cells": [
  {
   "cell_type": "markdown",
   "metadata": {},
   "source": [
    "This notebook is for project for Programming for Data Analysis, deadline is 16th December, 2019.\n",
    "As I am working for Airbnb, I am curious to see if there are any relationships between data that we have on our system. I chose the database that gathered Airbnb host's listings in Tokyo which contains many variables. The aim of this project is to investigate the datasets to discuss what I found with the data set.\n",
    "\n",
    "I adapted the database from http://insideairbnb.com/get-the-data.html\n"
   ]
  },
  {
   "cell_type": "code",
   "execution_count": null,
   "metadata": {},
   "outputs": [],
   "source": []
  }
 ],
 "metadata": {
  "kernelspec": {
   "display_name": "Python 3",
   "language": "python",
   "name": "python3"
  },
  "language_info": {
   "codemirror_mode": {
    "name": "ipython",
    "version": 3
   },
   "file_extension": ".py",
   "mimetype": "text/x-python",
   "name": "python",
   "nbconvert_exporter": "python",
   "pygments_lexer": "ipython3",
   "version": "3.7.4"
  }
 },
 "nbformat": 4,
 "nbformat_minor": 2
}
